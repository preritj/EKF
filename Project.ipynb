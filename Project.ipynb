{
 "cells": [
  {
   "cell_type": "code",
   "execution_count": 1,
   "metadata": {
    "collapsed": true
   },
   "outputs": [],
   "source": [
    "%matplotlib inline\n",
    "import matplotlib\n",
    "import matplotlib.pyplot as plt\n",
    "import pandas as pd"
   ]
  },
  {
   "cell_type": "markdown",
   "metadata": {},
   "source": [
    "### Input data"
   ]
  },
  {
   "cell_type": "code",
   "execution_count": 2,
   "metadata": {
    "collapsed": false
   },
   "outputs": [
    {
     "data": {
      "text/html": [
       "<div>\n",
       "<table border=\"1\" class=\"dataframe\">\n",
       "  <thead>\n",
       "    <tr style=\"text-align: right;\">\n",
       "      <th></th>\n",
       "      <th>rho</th>\n",
       "      <th>phi</th>\n",
       "      <th>rho_d</th>\n",
       "      <th>timestamp</th>\n",
       "      <th>p_x (GT)</th>\n",
       "      <th>p_y (GT)</th>\n",
       "      <th>v_x (GT)</th>\n",
       "      <th>v_y (GT)</th>\n",
       "      <th>yaw (GT)</th>\n",
       "      <th>yaw_d (GT)</th>\n",
       "    </tr>\n",
       "  </thead>\n",
       "  <tbody>\n",
       "    <tr>\n",
       "      <th>R</th>\n",
       "      <td>1.014892</td>\n",
       "      <td>0.554329</td>\n",
       "      <td>4.892807</td>\n",
       "      <td>1.477010e+15</td>\n",
       "      <td>0.859997</td>\n",
       "      <td>0.600045</td>\n",
       "      <td>5.199747</td>\n",
       "      <td>0.001797</td>\n",
       "      <td>0.000346</td>\n",
       "      <td>0.013822</td>\n",
       "    </tr>\n",
       "    <tr>\n",
       "      <th>R</th>\n",
       "      <td>1.047505</td>\n",
       "      <td>0.389240</td>\n",
       "      <td>4.511325</td>\n",
       "      <td>1.477010e+15</td>\n",
       "      <td>1.379955</td>\n",
       "      <td>0.600629</td>\n",
       "      <td>5.198979</td>\n",
       "      <td>0.010778</td>\n",
       "      <td>0.002073</td>\n",
       "      <td>0.027634</td>\n",
       "    </tr>\n",
       "    <tr>\n",
       "      <th>R</th>\n",
       "      <td>1.698300</td>\n",
       "      <td>0.298280</td>\n",
       "      <td>5.209986</td>\n",
       "      <td>1.477010e+15</td>\n",
       "      <td>1.899823</td>\n",
       "      <td>0.602470</td>\n",
       "      <td>5.197661</td>\n",
       "      <td>0.026932</td>\n",
       "      <td>0.005182</td>\n",
       "      <td>0.041430</td>\n",
       "    </tr>\n",
       "    <tr>\n",
       "      <th>R</th>\n",
       "      <td>2.044382</td>\n",
       "      <td>0.276002</td>\n",
       "      <td>5.043867</td>\n",
       "      <td>1.477010e+15</td>\n",
       "      <td>2.419540</td>\n",
       "      <td>0.606284</td>\n",
       "      <td>5.195728</td>\n",
       "      <td>0.050239</td>\n",
       "      <td>0.009669</td>\n",
       "      <td>0.055199</td>\n",
       "    </tr>\n",
       "    <tr>\n",
       "      <th>R</th>\n",
       "      <td>2.990916</td>\n",
       "      <td>0.217668</td>\n",
       "      <td>5.191807</td>\n",
       "      <td>1.477010e+15</td>\n",
       "      <td>2.939043</td>\n",
       "      <td>0.612786</td>\n",
       "      <td>5.193090</td>\n",
       "      <td>0.080668</td>\n",
       "      <td>0.015532</td>\n",
       "      <td>0.068933</td>\n",
       "    </tr>\n",
       "  </tbody>\n",
       "</table>\n",
       "</div>"
      ],
      "text/plain": [
       "        rho       phi     rho_d     timestamp  p_x (GT)  p_y (GT)  v_x (GT)  \\\n",
       "R  1.014892  0.554329  4.892807  1.477010e+15  0.859997  0.600045  5.199747   \n",
       "R  1.047505  0.389240  4.511325  1.477010e+15  1.379955  0.600629  5.198979   \n",
       "R  1.698300  0.298280  5.209986  1.477010e+15  1.899823  0.602470  5.197661   \n",
       "R  2.044382  0.276002  5.043867  1.477010e+15  2.419540  0.606284  5.195728   \n",
       "R  2.990916  0.217668  5.191807  1.477010e+15  2.939043  0.612786  5.193090   \n",
       "\n",
       "   v_y (GT)  yaw (GT)  yaw_d (GT)  \n",
       "R  0.001797  0.000346    0.013822  \n",
       "R  0.010778  0.002073    0.027634  \n",
       "R  0.026932  0.005182    0.041430  \n",
       "R  0.050239  0.009669    0.055199  \n",
       "R  0.080668  0.015532    0.068933  "
      ]
     },
     "execution_count": 2,
     "metadata": {},
     "output_type": "execute_result"
    }
   ],
   "source": [
    "data = pd.read_table(\"data/obj_pose-laser-radar-synthetic-input.txt\", header=None, index_col=None, engine='python')\n",
    "radar_data = data[data.index == 'R']\n",
    "radar_data.columns = ['rho', 'phi', 'rho_d', 'timestamp', 'p_x (GT)', 'p_y (GT)','v_x (GT)', 'v_y (GT)', 'yaw (GT)', 'yaw_d (GT)']\n",
    "radar_data.head()"
   ]
  },
  {
   "cell_type": "markdown",
   "metadata": {},
   "source": [
    "#### Radar data\n",
    "\n",
    "Below is the table of succesive differences in rows. \n",
    "\n",
    "Time interval is 0.1 seconds\n",
    "\n",
    "Max. acceleration = (0.25 m/s)/(0.1 s) = 2.5 m/s^2\n",
    "Standard deviation = (0.13 m/s)/(0.1 s) = 1.3 m/s^2\n",
    "\n",
    "Max yaw_dd = (0.013 rad/s)/(0.1 s) = 0.13 rad/s^2\n",
    "Standard deviation = (0.01 rad/s)/(0.1 s) = 0.1 rad/s^2"
   ]
  },
  {
   "cell_type": "code",
   "execution_count": 3,
   "metadata": {
    "collapsed": false
   },
   "outputs": [
    {
     "data": {
      "text/html": [
       "<div>\n",
       "<table border=\"1\" class=\"dataframe\">\n",
       "  <thead>\n",
       "    <tr style=\"text-align: right;\">\n",
       "      <th></th>\n",
       "      <th>rho</th>\n",
       "      <th>phi</th>\n",
       "      <th>rho_d</th>\n",
       "      <th>timestamp</th>\n",
       "      <th>p_x (GT)</th>\n",
       "      <th>p_y (GT)</th>\n",
       "      <th>v_x (GT)</th>\n",
       "      <th>v_y (GT)</th>\n",
       "      <th>yaw (GT)</th>\n",
       "      <th>yaw_d (GT)</th>\n",
       "    </tr>\n",
       "  </thead>\n",
       "  <tbody>\n",
       "    <tr>\n",
       "      <th>count</th>\n",
       "      <td>249.000000</td>\n",
       "      <td>249.000000</td>\n",
       "      <td>249.000000</td>\n",
       "      <td>249.0</td>\n",
       "      <td>249.000000</td>\n",
       "      <td>249.000000</td>\n",
       "      <td>249.000000</td>\n",
       "      <td>249.000000</td>\n",
       "      <td>249.000000</td>\n",
       "      <td>249.000000</td>\n",
       "    </tr>\n",
       "    <tr>\n",
       "      <th>mean</th>\n",
       "      <td>0.049214</td>\n",
       "      <td>0.006456</td>\n",
       "      <td>-0.029311</td>\n",
       "      <td>100000.0</td>\n",
       "      <td>-0.031485</td>\n",
       "      <td>0.041391</td>\n",
       "      <td>0.000001</td>\n",
       "      <td>-0.000007</td>\n",
       "      <td>-0.000001</td>\n",
       "      <td>-0.000056</td>\n",
       "    </tr>\n",
       "    <tr>\n",
       "      <th>std</th>\n",
       "      <td>0.538315</td>\n",
       "      <td>0.567372</td>\n",
       "      <td>0.448318</td>\n",
       "      <td>0.0</td>\n",
       "      <td>0.373180</td>\n",
       "      <td>0.330331</td>\n",
       "      <td>0.133251</td>\n",
       "      <td>0.137516</td>\n",
       "      <td>0.039047</td>\n",
       "      <td>0.009774</td>\n",
       "    </tr>\n",
       "    <tr>\n",
       "      <th>min</th>\n",
       "      <td>-1.310340</td>\n",
       "      <td>-6.306025</td>\n",
       "      <td>-1.232496</td>\n",
       "      <td>100000.0</td>\n",
       "      <td>-0.487800</td>\n",
       "      <td>-0.490958</td>\n",
       "      <td>-0.255819</td>\n",
       "      <td>-0.244519</td>\n",
       "      <td>-0.054997</td>\n",
       "      <td>-0.013822</td>\n",
       "    </tr>\n",
       "    <tr>\n",
       "      <th>25%</th>\n",
       "      <td>-0.309570</td>\n",
       "      <td>-0.027218</td>\n",
       "      <td>-0.339795</td>\n",
       "      <td>100000.0</td>\n",
       "      <td>-0.366041</td>\n",
       "      <td>-0.279877</td>\n",
       "      <td>-0.093913</td>\n",
       "      <td>-0.117121</td>\n",
       "      <td>-0.038890</td>\n",
       "      <td>-0.009712</td>\n",
       "    </tr>\n",
       "    <tr>\n",
       "      <th>50%</th>\n",
       "      <td>0.032613</td>\n",
       "      <td>0.001285</td>\n",
       "      <td>-0.048635</td>\n",
       "      <td>100000.0</td>\n",
       "      <td>-0.178747</td>\n",
       "      <td>0.077520</td>\n",
       "      <td>0.000255</td>\n",
       "      <td>0.000790</td>\n",
       "      <td>-0.000345</td>\n",
       "      <td>0.000000</td>\n",
       "    </tr>\n",
       "    <tr>\n",
       "      <th>75%</th>\n",
       "      <td>0.418700</td>\n",
       "      <td>0.038976</td>\n",
       "      <td>0.251358</td>\n",
       "      <td>100000.0</td>\n",
       "      <td>0.394410</td>\n",
       "      <td>0.343062</td>\n",
       "      <td>0.093848</td>\n",
       "      <td>0.117818</td>\n",
       "      <td>0.038890</td>\n",
       "      <td>0.009712</td>\n",
       "    </tr>\n",
       "    <tr>\n",
       "      <th>max</th>\n",
       "      <td>1.574950</td>\n",
       "      <td>6.279407</td>\n",
       "      <td>1.139243</td>\n",
       "      <td>100000.0</td>\n",
       "      <td>0.519984</td>\n",
       "      <td>0.483243</td>\n",
       "      <td>0.256015</td>\n",
       "      <td>0.244405</td>\n",
       "      <td>0.054998</td>\n",
       "      <td>0.013822</td>\n",
       "    </tr>\n",
       "  </tbody>\n",
       "</table>\n",
       "</div>"
      ],
      "text/plain": [
       "              rho         phi       rho_d  timestamp    p_x (GT)    p_y (GT)  \\\n",
       "count  249.000000  249.000000  249.000000      249.0  249.000000  249.000000   \n",
       "mean     0.049214    0.006456   -0.029311   100000.0   -0.031485    0.041391   \n",
       "std      0.538315    0.567372    0.448318        0.0    0.373180    0.330331   \n",
       "min     -1.310340   -6.306025   -1.232496   100000.0   -0.487800   -0.490958   \n",
       "25%     -0.309570   -0.027218   -0.339795   100000.0   -0.366041   -0.279877   \n",
       "50%      0.032613    0.001285   -0.048635   100000.0   -0.178747    0.077520   \n",
       "75%      0.418700    0.038976    0.251358   100000.0    0.394410    0.343062   \n",
       "max      1.574950    6.279407    1.139243   100000.0    0.519984    0.483243   \n",
       "\n",
       "         v_x (GT)    v_y (GT)    yaw (GT)  yaw_d (GT)  \n",
       "count  249.000000  249.000000  249.000000  249.000000  \n",
       "mean     0.000001   -0.000007   -0.000001   -0.000056  \n",
       "std      0.133251    0.137516    0.039047    0.009774  \n",
       "min     -0.255819   -0.244519   -0.054997   -0.013822  \n",
       "25%     -0.093913   -0.117121   -0.038890   -0.009712  \n",
       "50%      0.000255    0.000790   -0.000345    0.000000  \n",
       "75%      0.093848    0.117818    0.038890    0.009712  \n",
       "max      0.256015    0.244405    0.054998    0.013822  "
      ]
     },
     "execution_count": 3,
     "metadata": {},
     "output_type": "execute_result"
    }
   ],
   "source": [
    "radar_data.diff().describe()"
   ]
  },
  {
   "cell_type": "code",
   "execution_count": 4,
   "metadata": {
    "collapsed": false
   },
   "outputs": [
    {
     "data": {
      "text/html": [
       "<div>\n",
       "<table border=\"1\" class=\"dataframe\">\n",
       "  <thead>\n",
       "    <tr style=\"text-align: right;\">\n",
       "      <th></th>\n",
       "      <th>p_x</th>\n",
       "      <th>p_y</th>\n",
       "      <th>timestamp</th>\n",
       "      <th>p_x (GT)</th>\n",
       "      <th>p_y (GT)</th>\n",
       "      <th>v_x (GT)</th>\n",
       "      <th>v_y (GT)</th>\n",
       "      <th>yaw (GT)</th>\n",
       "      <th>yaw_d (GT)</th>\n",
       "    </tr>\n",
       "  </thead>\n",
       "  <tbody>\n",
       "    <tr>\n",
       "      <th>L</th>\n",
       "      <td>0.312243</td>\n",
       "      <td>0.580340</td>\n",
       "      <td>1.477010e+15</td>\n",
       "      <td>0.600000</td>\n",
       "      <td>0.600000</td>\n",
       "      <td>5.199937</td>\n",
       "      <td>0.000000</td>\n",
       "      <td>0.000000</td>\n",
       "      <td>0.006911</td>\n",
       "    </tr>\n",
       "    <tr>\n",
       "      <th>L</th>\n",
       "      <td>1.173848</td>\n",
       "      <td>0.481073</td>\n",
       "      <td>1.477010e+15</td>\n",
       "      <td>1.119984</td>\n",
       "      <td>0.600225</td>\n",
       "      <td>5.199429</td>\n",
       "      <td>0.005390</td>\n",
       "      <td>0.001037</td>\n",
       "      <td>0.020730</td>\n",
       "    </tr>\n",
       "    <tr>\n",
       "      <th>L</th>\n",
       "      <td>1.650626</td>\n",
       "      <td>0.624690</td>\n",
       "      <td>1.477010e+15</td>\n",
       "      <td>1.639904</td>\n",
       "      <td>0.601347</td>\n",
       "      <td>5.198392</td>\n",
       "      <td>0.017960</td>\n",
       "      <td>0.003455</td>\n",
       "      <td>0.034535</td>\n",
       "    </tr>\n",
       "    <tr>\n",
       "      <th>L</th>\n",
       "      <td>2.188824</td>\n",
       "      <td>0.648739</td>\n",
       "      <td>1.477010e+15</td>\n",
       "      <td>2.159704</td>\n",
       "      <td>0.604085</td>\n",
       "      <td>5.196776</td>\n",
       "      <td>0.037693</td>\n",
       "      <td>0.007253</td>\n",
       "      <td>0.048318</td>\n",
       "    </tr>\n",
       "    <tr>\n",
       "      <th>L</th>\n",
       "      <td>2.655256</td>\n",
       "      <td>0.665980</td>\n",
       "      <td>1.477010e+15</td>\n",
       "      <td>2.679323</td>\n",
       "      <td>0.609155</td>\n",
       "      <td>5.194504</td>\n",
       "      <td>0.064565</td>\n",
       "      <td>0.012429</td>\n",
       "      <td>0.062071</td>\n",
       "    </tr>\n",
       "  </tbody>\n",
       "</table>\n",
       "</div>"
      ],
      "text/plain": [
       "        p_x       p_y     timestamp  p_x (GT)  p_y (GT)  v_x (GT)  v_y (GT)  \\\n",
       "L  0.312243  0.580340  1.477010e+15  0.600000  0.600000  5.199937  0.000000   \n",
       "L  1.173848  0.481073  1.477010e+15  1.119984  0.600225  5.199429  0.005390   \n",
       "L  1.650626  0.624690  1.477010e+15  1.639904  0.601347  5.198392  0.017960   \n",
       "L  2.188824  0.648739  1.477010e+15  2.159704  0.604085  5.196776  0.037693   \n",
       "L  2.655256  0.665980  1.477010e+15  2.679323  0.609155  5.194504  0.064565   \n",
       "\n",
       "   yaw (GT)  yaw_d (GT)  \n",
       "L  0.000000    0.006911  \n",
       "L  0.001037    0.020730  \n",
       "L  0.003455    0.034535  \n",
       "L  0.007253    0.048318  \n",
       "L  0.012429    0.062071  "
      ]
     },
     "execution_count": 4,
     "metadata": {},
     "output_type": "execute_result"
    }
   ],
   "source": [
    "data = pd.read_table(\"data/obj_pose-laser-radar-synthetic-input.txt\", header=None, index_col=None, engine='python')\n",
    "lidar_data = data[data.index == 'L']\n",
    "del lidar_data[9]\n",
    "lidar_data.columns = ['p_x', 'p_y', 'timestamp', 'p_x (GT)', 'p_y (GT)','v_x (GT)', 'v_y (GT)', 'yaw (GT)', 'yaw_d (GT)']\n",
    "lidar_data.head()"
   ]
  },
  {
   "cell_type": "markdown",
   "metadata": {},
   "source": [
    "#### Lidar data\n",
    "\n",
    "Below is the table of succesive differences in rows. \n",
    "\n",
    "Time interval is 0.1 seconds\n",
    "\n",
    "Max. acceleration = (0.25 m/s)/(0.1 s) = 2.5 m/s^2\n",
    "Standard deviation = (0.13 m/s)/(0.1 s) = 1.3 m/s^2\n",
    "\n",
    "Max yaw_dd = (0.013 rad/s)/(0.1 s) = 0.13 rad/s^2\n",
    "Standard deviation = (0.01 rad/s)/(0.1 s) = 0.1 rad/s^2"
   ]
  },
  {
   "cell_type": "code",
   "execution_count": 5,
   "metadata": {
    "collapsed": false
   },
   "outputs": [
    {
     "data": {
      "text/html": [
       "<div>\n",
       "<table border=\"1\" class=\"dataframe\">\n",
       "  <thead>\n",
       "    <tr style=\"text-align: right;\">\n",
       "      <th></th>\n",
       "      <th>p_x</th>\n",
       "      <th>p_y</th>\n",
       "      <th>timestamp</th>\n",
       "      <th>p_x (GT)</th>\n",
       "      <th>p_y (GT)</th>\n",
       "      <th>v_x (GT)</th>\n",
       "      <th>v_y (GT)</th>\n",
       "      <th>yaw (GT)</th>\n",
       "      <th>yaw_d (GT)</th>\n",
       "    </tr>\n",
       "  </thead>\n",
       "  <tbody>\n",
       "    <tr>\n",
       "      <th>count</th>\n",
       "      <td>249.000000</td>\n",
       "      <td>249.000000</td>\n",
       "      <td>249.0</td>\n",
       "      <td>249.000000</td>\n",
       "      <td>249.000000</td>\n",
       "      <td>2.490000e+02</td>\n",
       "      <td>249.000000</td>\n",
       "      <td>249.000000</td>\n",
       "      <td>249.000000</td>\n",
       "    </tr>\n",
       "    <tr>\n",
       "      <th>mean</th>\n",
       "      <td>-0.029994</td>\n",
       "      <td>0.041103</td>\n",
       "      <td>100000.0</td>\n",
       "      <td>-0.031485</td>\n",
       "      <td>0.041391</td>\n",
       "      <td>-2.318538e-17</td>\n",
       "      <td>0.000007</td>\n",
       "      <td>0.000001</td>\n",
       "      <td>-0.000056</td>\n",
       "    </tr>\n",
       "    <tr>\n",
       "      <th>std</th>\n",
       "      <td>0.427966</td>\n",
       "      <td>0.385834</td>\n",
       "      <td>0.0</td>\n",
       "      <td>0.373180</td>\n",
       "      <td>0.330331</td>\n",
       "      <td>1.332509e-01</td>\n",
       "      <td>0.137516</td>\n",
       "      <td>0.039047</td>\n",
       "      <td>0.009774</td>\n",
       "    </tr>\n",
       "    <tr>\n",
       "      <th>min</th>\n",
       "      <td>-0.868010</td>\n",
       "      <td>-0.943185</td>\n",
       "      <td>100000.0</td>\n",
       "      <td>-0.487810</td>\n",
       "      <td>-0.490958</td>\n",
       "      <td>-2.559085e-01</td>\n",
       "      <td>-0.244557</td>\n",
       "      <td>-0.054998</td>\n",
       "      <td>-0.013823</td>\n",
       "    </tr>\n",
       "    <tr>\n",
       "      <th>25%</th>\n",
       "      <td>-0.364868</td>\n",
       "      <td>-0.250941</td>\n",
       "      <td>100000.0</td>\n",
       "      <td>-0.366042</td>\n",
       "      <td>-0.279880</td>\n",
       "      <td>-9.376200e-02</td>\n",
       "      <td>-0.117854</td>\n",
       "      <td>-0.038890</td>\n",
       "      <td>-0.009835</td>\n",
       "    </tr>\n",
       "    <tr>\n",
       "      <th>50%</th>\n",
       "      <td>-0.115064</td>\n",
       "      <td>0.104070</td>\n",
       "      <td>100000.0</td>\n",
       "      <td>-0.178747</td>\n",
       "      <td>0.077525</td>\n",
       "      <td>-5.080000e-04</td>\n",
       "      <td>-0.000584</td>\n",
       "      <td>0.000345</td>\n",
       "      <td>-0.000174</td>\n",
       "    </tr>\n",
       "    <tr>\n",
       "      <th>75%</th>\n",
       "      <td>0.320483</td>\n",
       "      <td>0.337480</td>\n",
       "      <td>100000.0</td>\n",
       "      <td>0.394410</td>\n",
       "      <td>0.343062</td>\n",
       "      <td>9.406800e-02</td>\n",
       "      <td>0.117077</td>\n",
       "      <td>0.038890</td>\n",
       "      <td>0.009588</td>\n",
       "    </tr>\n",
       "    <tr>\n",
       "      <th>max</th>\n",
       "      <td>1.167504</td>\n",
       "      <td>0.826505</td>\n",
       "      <td>100000.0</td>\n",
       "      <td>0.519984</td>\n",
       "      <td>0.483240</td>\n",
       "      <td>2.559368e-01</td>\n",
       "      <td>0.244376</td>\n",
       "      <td>0.054997</td>\n",
       "      <td>0.013818</td>\n",
       "    </tr>\n",
       "  </tbody>\n",
       "</table>\n",
       "</div>"
      ],
      "text/plain": [
       "              p_x         p_y  timestamp    p_x (GT)    p_y (GT)  \\\n",
       "count  249.000000  249.000000      249.0  249.000000  249.000000   \n",
       "mean    -0.029994    0.041103   100000.0   -0.031485    0.041391   \n",
       "std      0.427966    0.385834        0.0    0.373180    0.330331   \n",
       "min     -0.868010   -0.943185   100000.0   -0.487810   -0.490958   \n",
       "25%     -0.364868   -0.250941   100000.0   -0.366042   -0.279880   \n",
       "50%     -0.115064    0.104070   100000.0   -0.178747    0.077525   \n",
       "75%      0.320483    0.337480   100000.0    0.394410    0.343062   \n",
       "max      1.167504    0.826505   100000.0    0.519984    0.483240   \n",
       "\n",
       "           v_x (GT)    v_y (GT)    yaw (GT)  yaw_d (GT)  \n",
       "count  2.490000e+02  249.000000  249.000000  249.000000  \n",
       "mean  -2.318538e-17    0.000007    0.000001   -0.000056  \n",
       "std    1.332509e-01    0.137516    0.039047    0.009774  \n",
       "min   -2.559085e-01   -0.244557   -0.054998   -0.013823  \n",
       "25%   -9.376200e-02   -0.117854   -0.038890   -0.009835  \n",
       "50%   -5.080000e-04   -0.000584    0.000345   -0.000174  \n",
       "75%    9.406800e-02    0.117077    0.038890    0.009588  \n",
       "max    2.559368e-01    0.244376    0.054997    0.013818  "
      ]
     },
     "execution_count": 5,
     "metadata": {},
     "output_type": "execute_result"
    }
   ],
   "source": [
    "lidar_data.diff().describe()"
   ]
  },
  {
   "cell_type": "markdown",
   "metadata": {},
   "source": [
    "### Output data"
   ]
  },
  {
   "cell_type": "markdown",
   "metadata": {},
   "source": [
    "#### NIS for radar :"
   ]
  },
  {
   "cell_type": "code",
   "execution_count": 6,
   "metadata": {
    "collapsed": false
   },
   "outputs": [
    {
     "data": {
      "text/html": [
       "<div>\n",
       "<table border=\"1\" class=\"dataframe\">\n",
       "  <thead>\n",
       "    <tr style=\"text-align: right;\">\n",
       "      <th></th>\n",
       "      <th>time_stamp</th>\n",
       "      <th>px_state</th>\n",
       "      <th>py_state</th>\n",
       "      <th>v_state</th>\n",
       "      <th>yaw_angle_state</th>\n",
       "      <th>yaw_rate_state</th>\n",
       "      <th>sensor_type</th>\n",
       "      <th>NIS</th>\n",
       "      <th>px_measured</th>\n",
       "      <th>py_measured</th>\n",
       "      <th>px_ground_truth</th>\n",
       "      <th>py_ground_truth</th>\n",
       "      <th>vx_ground_truth</th>\n",
       "      <th>vy_ground_truth</th>\n",
       "    </tr>\n",
       "  </thead>\n",
       "  <tbody>\n",
       "    <tr>\n",
       "      <th>0</th>\n",
       "      <td>1477010443000000</td>\n",
       "      <td>0.312243</td>\n",
       "      <td>0.580340</td>\n",
       "      <td>0.00000</td>\n",
       "      <td>0.000000e+00</td>\n",
       "      <td>0.000000e+00</td>\n",
       "      <td>lidar</td>\n",
       "      <td>2.242090e-314</td>\n",
       "      <td>0.312243</td>\n",
       "      <td>0.580340</td>\n",
       "      <td>0.600000</td>\n",
       "      <td>0.600000</td>\n",
       "      <td>5.19994</td>\n",
       "      <td>0.000000</td>\n",
       "    </tr>\n",
       "    <tr>\n",
       "      <th>1</th>\n",
       "      <td>1477010443050000</td>\n",
       "      <td>0.757365</td>\n",
       "      <td>0.653870</td>\n",
       "      <td>7.21476</td>\n",
       "      <td>-4.502470e-17</td>\n",
       "      <td>2.194340e-17</td>\n",
       "      <td>radar</td>\n",
       "      <td>7.459530e+01</td>\n",
       "      <td>0.862916</td>\n",
       "      <td>0.534212</td>\n",
       "      <td>0.859997</td>\n",
       "      <td>0.600045</td>\n",
       "      <td>5.19975</td>\n",
       "      <td>0.001797</td>\n",
       "    </tr>\n",
       "    <tr>\n",
       "      <th>2</th>\n",
       "      <td>1477010443100000</td>\n",
       "      <td>1.153040</td>\n",
       "      <td>0.504923</td>\n",
       "      <td>7.22267</td>\n",
       "      <td>-2.190410e-01</td>\n",
       "      <td>-2.041710e-02</td>\n",
       "      <td>lidar</td>\n",
       "      <td>3.644120e-01</td>\n",
       "      <td>1.173850</td>\n",
       "      <td>0.481073</td>\n",
       "      <td>1.119980</td>\n",
       "      <td>0.600225</td>\n",
       "      <td>5.19943</td>\n",
       "      <td>0.005390</td>\n",
       "    </tr>\n",
       "    <tr>\n",
       "      <th>3</th>\n",
       "      <td>1477010443150000</td>\n",
       "      <td>1.258930</td>\n",
       "      <td>0.540987</td>\n",
       "      <td>7.19734</td>\n",
       "      <td>2.763970e-02</td>\n",
       "      <td>2.222520e-02</td>\n",
       "      <td>radar</td>\n",
       "      <td>1.896200e+00</td>\n",
       "      <td>0.969149</td>\n",
       "      <td>0.397513</td>\n",
       "      <td>1.379960</td>\n",
       "      <td>0.600629</td>\n",
       "      <td>5.19898</td>\n",
       "      <td>0.010778</td>\n",
       "    </tr>\n",
       "    <tr>\n",
       "      <th>4</th>\n",
       "      <td>1477010443200000</td>\n",
       "      <td>1.620870</td>\n",
       "      <td>0.581628</td>\n",
       "      <td>7.20210</td>\n",
       "      <td>9.129940e-02</td>\n",
       "      <td>5.024520e-02</td>\n",
       "      <td>lidar</td>\n",
       "      <td>2.157110e-01</td>\n",
       "      <td>1.650630</td>\n",
       "      <td>0.624690</td>\n",
       "      <td>1.639900</td>\n",
       "      <td>0.601347</td>\n",
       "      <td>5.19839</td>\n",
       "      <td>0.017960</td>\n",
       "    </tr>\n",
       "  </tbody>\n",
       "</table>\n",
       "</div>"
      ],
      "text/plain": [
       "         time_stamp  px_state  py_state  v_state  yaw_angle_state  \\\n",
       "0  1477010443000000  0.312243  0.580340  0.00000     0.000000e+00   \n",
       "1  1477010443050000  0.757365  0.653870  7.21476    -4.502470e-17   \n",
       "2  1477010443100000  1.153040  0.504923  7.22267    -2.190410e-01   \n",
       "3  1477010443150000  1.258930  0.540987  7.19734     2.763970e-02   \n",
       "4  1477010443200000  1.620870  0.581628  7.20210     9.129940e-02   \n",
       "\n",
       "   yaw_rate_state sensor_type            NIS  px_measured  py_measured  \\\n",
       "0    0.000000e+00       lidar  2.242090e-314     0.312243     0.580340   \n",
       "1    2.194340e-17       radar   7.459530e+01     0.862916     0.534212   \n",
       "2   -2.041710e-02       lidar   3.644120e-01     1.173850     0.481073   \n",
       "3    2.222520e-02       radar   1.896200e+00     0.969149     0.397513   \n",
       "4    5.024520e-02       lidar   2.157110e-01     1.650630     0.624690   \n",
       "\n",
       "   px_ground_truth  py_ground_truth  vx_ground_truth  vy_ground_truth  \n",
       "0         0.600000         0.600000          5.19994         0.000000  \n",
       "1         0.859997         0.600045          5.19975         0.001797  \n",
       "2         1.119980         0.600225          5.19943         0.005390  \n",
       "3         1.379960         0.600629          5.19898         0.010778  \n",
       "4         1.639900         0.601347          5.19839         0.017960  "
      ]
     },
     "execution_count": 6,
     "metadata": {},
     "output_type": "execute_result"
    }
   ],
   "source": [
    "data = pd.read_table(\"output/out.txt\")\n",
    "data.head()"
   ]
  },
  {
   "cell_type": "code",
   "execution_count": 7,
   "metadata": {
    "collapsed": false
   },
   "outputs": [
    {
     "data": {
      "text/plain": [
       "<matplotlib.lines.Line2D at 0x10924ded0>"
      ]
     },
     "execution_count": 7,
     "metadata": {},
     "output_type": "execute_result"
    },
    {
     "data": {
      "image/png": "[encoded data removed]",
      "text/plain": [
       "<matplotlib.figure.Figure at 0x107778350>"
      ]
     },
     "metadata": {},
     "output_type": "display_data"
    }
   ],
   "source": [
    "plt.plot(data[data.sensor_type == 'radar']['NIS'])\n",
    "plt.ylim(0,10)\n",
    "plt.axhline(7.8, c='red')"
   ]
  },
  {
   "cell_type": "code",
   "execution_count": 8,
   "metadata": {
    "collapsed": false
   },
   "outputs": [
    {
     "name": "stdout",
     "output_type": "stream",
     "text": [
      "95% quartile : 7.2647975\n"
     ]
    },
    {
     "data": {
      "text/plain": [
       "count    250.000000\n",
       "mean       3.116559\n",
       "std        5.063096\n",
       "min        0.043286\n",
       "25%        1.268515\n",
       "50%        2.182115\n",
       "75%        3.872203\n",
       "max       74.595300\n",
       "Name: NIS, dtype: float64"
      ]
     },
     "execution_count": 8,
     "metadata": {},
     "output_type": "execute_result"
    }
   ],
   "source": [
    "print \"95% quartile : {}\".format(data[data.sensor_type == 'radar']['NIS'].quantile(.95))\n",
    "data[data.sensor_type == 'radar']['NIS'].describe()"
   ]
  },
  {
   "cell_type": "markdown",
   "metadata": {},
   "source": [
    "#### NIS for lidar : "
   ]
  },
  {
   "cell_type": "code",
   "execution_count": 9,
   "metadata": {
    "collapsed": false
   },
   "outputs": [
    {
     "data": {
      "text/plain": [
       "<matplotlib.lines.Line2D at 0x10929efd0>"
      ]
     },
     "execution_count": 9,
     "metadata": {},
     "output_type": "execute_result"
    },
    {
     "data": {
      "image/png": "[encoded data removed]",
      "text/plain": [
       "<matplotlib.figure.Figure at 0x106183150>"
      ]
     },
     "metadata": {},
     "output_type": "display_data"
    }
   ],
   "source": [
    "plt.plot(data[data.sensor_type == 'lidar']['NIS'])\n",
    "plt.ylim(0,10)\n",
    "plt.axhline(6, c='red')"
   ]
  },
  {
   "cell_type": "code",
   "execution_count": 10,
   "metadata": {
    "collapsed": false
   },
   "outputs": [
    {
     "name": "stdout",
     "output_type": "stream",
     "text": [
      "95% quartile : 4.858247\n"
     ]
    },
    {
     "data": {
      "text/plain": [
       "count     2.500000e+02\n",
       "mean      1.735853e+00\n",
       "std       1.788005e+00\n",
       "min      2.242090e-314\n",
       "25%       5.845780e-01\n",
       "50%       1.185970e+00\n",
       "75%       2.275593e+00\n",
       "max       1.447050e+01\n",
       "Name: NIS, dtype: float64"
      ]
     },
     "execution_count": 10,
     "metadata": {},
     "output_type": "execute_result"
    }
   ],
   "source": [
    "print \"95% quartile : {}\".format(data[data.sensor_type == 'lidar']['NIS'].quantile(.95))\n",
    "data[data.sensor_type == 'lidar']['NIS'].describe()"
   ]
  }
 ],
 "metadata": {
  "kernelspec": {
   "display_name": "Python 2",
   "language": "python",
   "name": "python2"
  },
  "language_info": {
   "codemirror_mode": {
    "name": "ipython",
    "version": 2
   },
   "file_extension": ".py",
   "mimetype": "text/x-python",
   "name": "python",
   "nbconvert_exporter": "python",
   "pygments_lexer": "ipython2",
   "version": "2.7.12"
  }
 },
 "nbformat": 4,
 "nbformat_minor": 0
}
